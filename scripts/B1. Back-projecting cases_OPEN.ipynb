{
 "cells": [
  {
   "cell_type": "code",
   "execution_count": 1,
   "metadata": {},
   "outputs": [
    {
     "name": "stderr",
     "output_type": "stream",
     "text": [
      "── \u001b[1mAttaching core tidyverse packages\u001b[22m ──────────────────────── tidyverse 2.0.0 ──\n",
      "\u001b[32m✔\u001b[39m \u001b[34mforcats\u001b[39m 1.0.0     \u001b[32m✔\u001b[39m \u001b[34mstringr\u001b[39m 1.5.1\n",
      "\u001b[32m✔\u001b[39m \u001b[34mpurrr  \u001b[39m 1.0.2     \u001b[32m✔\u001b[39m \u001b[34mtibble \u001b[39m 3.2.1\n",
      "\u001b[32m✔\u001b[39m \u001b[34mreadr  \u001b[39m 2.1.4     \n",
      "── \u001b[1mConflicts\u001b[22m ────────────────────────────────────────── tidyverse_conflicts() ──\n",
      "\u001b[31m✖\u001b[39m \u001b[34mtidyr\u001b[39m::\u001b[32mextract()\u001b[39m   masks \u001b[34mmagrittr\u001b[39m::extract()\n",
      "\u001b[31m✖\u001b[39m \u001b[34mdplyr\u001b[39m::\u001b[32mfilter()\u001b[39m    masks \u001b[34mstats\u001b[39m::filter()\n",
      "\u001b[31m✖\u001b[39m \u001b[34mdplyr\u001b[39m::\u001b[32mlag()\u001b[39m       masks \u001b[34mstats\u001b[39m::lag()\n",
      "\u001b[31m✖\u001b[39m \u001b[34mpurrr\u001b[39m::\u001b[32mset_names()\u001b[39m masks \u001b[34mmagrittr\u001b[39m::set_names()\n",
      "\u001b[36mℹ\u001b[39m Use the conflicted package (\u001b[3m\u001b[34m<http://conflicted.r-lib.org/>\u001b[39m\u001b[23m) to force all conflicts to become errors\n",
      "Successfully loaded changepoint package version 2.2.4\n",
      " See NEWS for details of changes.\n",
      "\n"
     ]
    },
    {
     "data": {
      "text/html": [
       "'R version 4.3.2 (2023-10-31)'"
      ],
      "text/latex": [
       "'R version 4.3.2 (2023-10-31)'"
      ],
      "text/markdown": [
       "'R version 4.3.2 (2023-10-31)'"
      ],
      "text/plain": [
       "[1] \"R version 4.3.2 (2023-10-31)\""
      ]
     },
     "metadata": {},
     "output_type": "display_data"
    }
   ],
   "source": [
    "libraries = c(\"dplyr\",\"magrittr\",\"tidyr\",\"ggplot2\",\"RColorBrewer\",\"zoo\",\"lubridate\",\"tidyverse\",\n",
    "              \"readxl\",\"gridExtra\",\"MASS\",\"ggpubr\", \"mixdist\", \"changepoint\", \"changepoint.np\")\n",
    "for(x in libraries) {library(x, character.only=TRUE, warn.conflicts=FALSE, quietly=TRUE)}\n",
    "\n",
    "'%&%' = function(x,y)paste0(x,y)\n",
    "\n",
    "theme_set(theme_bw())\n",
    "version$version.string\n",
    "\n",
    "options(scipen=10000)"
   ]
  },
  {
   "cell_type": "markdown",
   "metadata": {},
   "source": [
    "# Settings"
   ]
  },
  {
   "cell_type": "code",
   "execution_count": 2,
   "metadata": {},
   "outputs": [],
   "source": [
    "## Before the Omicron period\n",
    "Final_analysis <- as.Date(\"2021-12-01\") \n",
    "\n",
    "## Adding extra data points for back-projection\n",
    "add = 30\n",
    "\n",
    "## 7-days moving average\n",
    "MV <- 7"
   ]
  },
  {
   "cell_type": "code",
   "execution_count": 3,
   "metadata": {},
   "outputs": [],
   "source": [
    "## Incubation period for non-Omicron variants (Grant et al, 2021)\n",
    "convert_lnorm <- function(mu, sd) {\n",
    "    tmp <- log((sd / mu)^2 + 1)\n",
    "    mulog <- log(mu) - 0.5 * tmp; sdlog <- sqrt(tmp)\n",
    "    list(mulog = mulog, sdlog = sdlog)\n",
    "}\n",
    "\n",
    "inc_fit = list(meanlog=convert_lnorm(4.3, 2.4)$mulog, sdlog=convert_lnorm(4.3, 2.4)$sdlog)\n",
    "incubation <- function(t){plnorm(t, inc_fit$meanlog, inc_fit$sdlog) - plnorm(t-1, inc_fit$meanlog, inc_fit$sdlog)}\n",
    "\n",
    "## Incubation period for the Omicron variant (Backer et al, 2022)\n",
    "inc_fit_omi = list(shape=1.50, scale=3.60)\n",
    "incubation_omi <- function(t){pweibull(t, inc_fit_omi$shape, inc_fit_omi$scale) - \n",
    "                              pweibull(t-1, inc_fit_omi$shape, inc_fit_omi$scale)}"
   ]
  },
  {
   "cell_type": "code",
   "execution_count": 4,
   "metadata": {},
   "outputs": [],
   "source": [
    "## Incidence data\n",
    "readRDS(\"master_df.rds\") -> master_df\n",
    "min_onset <- as.Date(\"2020-01-10\")\n",
    "\n",
    "master_df %<>% rename(sex=성별, region=거주시도, severity='위중증 유무(유:1)') %>%\n",
    "mutate(diff = case_when(!is.na(onset) ~ as.numeric(as.Date(published) - as.Date(onset))))\n",
    "master_df$diff[is.na(master_df$diff)] <- 0 \n",
    "master_df %<>% mutate(onset = case_when(!is.na(onset) & onset < min_onset ~ as.Date(NA),\n",
    "                                        !is.na(onset) & onset > max(master_df$published) ~ as.Date(NA),\n",
    "                                        diff >= 30 ~ as.Date(NA),\n",
    "                                        TRUE ~ onset)) %>% arrange(published) %>% dplyr::select(-diff)"
   ]
  },
  {
   "cell_type": "code",
   "execution_count": 5,
   "metadata": {},
   "outputs": [],
   "source": [
    "as.numeric(max(master_df$published)-1-min(master_df$published)) -> time.diff\n",
    "ttime <- as.data.frame(c(0:time.diff))\n",
    "colnames(ttime) <- c('t')\n",
    "ttime %<>% mutate(published = min(master_df$published)+t)"
   ]
  },
  {
   "cell_type": "code",
   "execution_count": 6,
   "metadata": {},
   "outputs": [
    {
     "data": {
      "text/html": [
       "<style>\n",
       ".list-inline {list-style: none; margin:0; padding: 0}\n",
       ".list-inline>li {display: inline-block}\n",
       ".list-inline>li:not(:last-child)::after {content: \"\\00b7\"; padding: 0 .5ex}\n",
       "</style>\n",
       "<ol class=list-inline><li><time datetime=\"2020-05-01\">2020-05-01</time></li><li><time datetime=\"2021-06-01\">2021-06-01</time></li><li><time datetime=\"2022-03-01\">2022-03-01</time></li></ol>\n"
      ],
      "text/latex": [
       "\\begin{enumerate*}\n",
       "\\item 2020-05-01\n",
       "\\item 2021-06-01\n",
       "\\item 2022-03-01\n",
       "\\end{enumerate*}\n"
      ],
      "text/markdown": [
       "1. 2020-05-01\n",
       "2. 2021-06-01\n",
       "3. 2022-03-01\n",
       "\n",
       "\n"
      ],
      "text/plain": [
       "[1] \"2020-05-01\" \"2021-06-01\" \"2022-03-01\""
      ]
     },
     "metadata": {},
     "output_type": "display_data"
    }
   ],
   "source": [
    "## Time delay data\n",
    "readRDS(\"delay_stepp.rds\") -> delay_stepp\n",
    "readRDS(\"temp_stepp.rds\") -> temp_stepp\n",
    "readRDS(\"delay_figure.rds\") -> delay_figure\n",
    "readRDS(\"delay_stepp_org.rds\") -> delay_stepp_org\n",
    "readRDS(\"fit_changepoint.rds\") -> fit_changepoint\n",
    "\n",
    "c(temp_stepp$date[cpts(fit_changepoint)[1]]+1, temp_stepp$date[cpts(fit_changepoint)[2]]+1, \n",
    "  temp_stepp$date[cpts(fit_changepoint)[3]]+1)"
   ]
  },
  {
   "cell_type": "markdown",
   "metadata": {},
   "source": [
    "# Proportion of variants: non-Omicron & Omicron"
   ]
  },
  {
   "cell_type": "code",
   "execution_count": 7,
   "metadata": {},
   "outputs": [],
   "source": [
    "readRDS(\"prop.rds\") -> prop_variant"
   ]
  },
  {
   "cell_type": "code",
   "execution_count": 8,
   "metadata": {},
   "outputs": [],
   "source": [
    "prop_variant %>% distinct() %>% spread(group, prop) %>%\n",
    "mutate(Non_Omicron=1-Omicron) %>% dplyr::select(year, week, Date, Omicron, Non_Omicron) -> prop_variant_agg\n",
    "\n",
    "min_backproj <- as.Date(\"2020-01-01\")\n",
    "\n",
    "## data for cases with the illness onset\n",
    "as.numeric(as.Date(\"2022-08-01\")-1-min_backproj) -> time_diff\n",
    "ttime_variant <- as.data.frame(c(0:time_diff))\n",
    "colnames(ttime_variant) <- c('t')\n",
    "ttime_variant %<>% mutate(Date = min_backproj+t) %>% dplyr::select(-t)\n",
    "\n",
    "merge(prop_variant_agg %>% dplyr::select(-c(\"year\", \"week\")), \n",
    "      ttime_variant, by=c(\"Date\"), all.y=TRUE) %>% fill(Omicron, Non_Omicron) -> prop_variant_final\n",
    "prop_variant_final[is.na(prop_variant_final)] <- 0\n",
    "\n",
    "## assumptions based on the designated periods\n",
    "prop_variant_final %>% \n",
    "mutate(Omicron=case_when(Date < as.Date(\"2021-01-02\") ~ 0, TRUE ~ Omicron),\n",
    "       Non_Omicron=case_when(Date < as.Date(\"2021-01-02\") ~ 1, TRUE ~ Non_Omicron)) -> prop_variant_assumed"
   ]
  },
  {
   "cell_type": "markdown",
   "metadata": {},
   "source": [
    "# Backprojections"
   ]
  },
  {
   "cell_type": "code",
   "execution_count": 9,
   "metadata": {},
   "outputs": [],
   "source": [
    "smooth_k = 4\n",
    "min_backproj <- as.Date(\"2020-01-01\")"
   ]
  },
  {
   "cell_type": "markdown",
   "metadata": {},
   "source": [
    "### (1) Cases published before May 2020 (based on the estimated change points)"
   ]
  },
  {
   "cell_type": "code",
   "execution_count": 10,
   "metadata": {},
   "outputs": [],
   "source": [
    "min_backproj <- as.Date(\"2020-01-01\")\n",
    "\n",
    "## data for cases with the illness onset\n",
    "as.numeric(as.Date(\"2022-07-01\")-1-min_backproj) -> time.diff_onset\n",
    "ttime_onset <- as.data.frame(c(0:time.diff_onset))\n",
    "colnames(ttime_onset) <- c('t')\n",
    "ttime_onset %<>% mutate(onset = min_backproj+t)\n",
    "\n",
    "master_df %>% filter(published < as.Date(\"2020-05-01\")) %>% filter(!is.na(onset)) -> onset_Korea\n",
    "onset_Korea %>% group_by(onset) %>% count() %>% as.data.frame() -> master_onset\n",
    "merge(ttime_onset, master_onset, by='onset', all.x=TRUE) -> master_onset\n",
    "master_onset[is.na(master_onset)] <- 0\n",
    "master_onset %<>% dplyr::select(onset, n)\n",
    "\n",
    "## data for cases with the unknown illness onset (excluding the asymptomatic cases)\n",
    "master_df %>% filter(published < as.Date(\"2020-05-01\")) %>% filter(is.na(onset)) -> unknown_Korea\n",
    "unknown_Korea %>% group_by(published) %>% count() %>% as.data.frame() -> master_unknown\n",
    "merge(ttime, master_unknown, by='published', all.x=TRUE) -> master_unknown\n",
    "master_unknown[is.na(master_unknown)] <- 0\n",
    "master_unknown %<>% dplyr::select(published, n)\n",
    "\n",
    "temp_start <- matrix(NA, ncol=1, nrow=as.numeric(min(master_unknown$published)-as.Date(\"2020-01-01\")))\n",
    "temp_start %<>% as.data.frame() %>% \n",
    "mutate(published = as.Date(min_backproj:(min(master_unknown$published)-1)), n=0) %>% dplyr::select(-V1)\n",
    "rbind(temp_start, master_unknown) -> master_unknown"
   ]
  },
  {
   "cell_type": "markdown",
   "metadata": {},
   "source": [
    "### Backprojection from the published date to symptom onset"
   ]
  },
  {
   "cell_type": "code",
   "execution_count": 11,
   "metadata": {},
   "outputs": [
    {
     "ename": "ERROR",
     "evalue": "Error in library(surveillance): there is no package called ‘surveillance’\n",
     "output_type": "error",
     "traceback": [
      "Error in library(surveillance): there is no package called ‘surveillance’\nTraceback:\n",
      "1. library(surveillance)"
     ]
    }
   ],
   "source": [
    "library(surveillance)\n",
    "\n",
    "## adding extra 10 days for the stability of back-projection procedure\n",
    "temp_lastdays <- matrix(NA, ncol=1, nrow=10)\n",
    "temp_lastdays %<>% as.data.frame() %>% \n",
    "mutate(published=as.Date((max(master_unknown$published)+1):(max(master_unknown$published)+10)),n=0) %>% \n",
    "dplyr::select(-V1)\n",
    "rbind(master_unknown, temp_lastdays) -> master_unknown\n",
    "master_unknown %<>% mutate(time_onset = 1:nrow(master_unknown))\n",
    "\n",
    "\n",
    "## time delay from the illness onset to published date\n",
    "K = nrow(master_unknown)\n",
    "report_probability = pweibull(1:K, shape=delay_stepp$shape[1], scale=delay_stepp$scale[1]) - \n",
    "                     pweibull(1:K-1, shape=delay_stepp$shape[1], scale=delay_stepp$scale[1])\n",
    "report_pmf = c(0,report_probability[1:21])\n",
    "\n",
    "\n",
    "## back-projecton of domestic cases\n",
    "sts = new(\"sts\", epoch=master_unknown$time_onset, observed=master_unknown$n)\n",
    "bpnp.control = list(k = 4, eps = rep(1e-4,2), iter.max=rep(1000,2), \n",
    "                    Tmark = nrow(sts), B = -1, alpha = 0.01, verbose = FALSE, lambda0 = NULL, \n",
    "                    eq3a.method = c(\"R\",\"C\"))\n",
    "sts_bp = backprojNP(sts, incu.pmf=report_pmf, control=modifyList(bpnp.control,list(eq3a.method=\"C\")))\n",
    "master_unknown$total_backproj = upperbound(sts_bp)\n",
    "\n",
    "\n",
    "## normalizing the back-projected cases\n",
    "master_unknown$total_backproj[master_unknown$total_backproj<=0.01] <- 0\n",
    "\n",
    "master_unknown %>% mutate(total_normal = total_backproj/sum(total_backproj)*sum(n),\n",
    "                          time_onset=0:(nrow(master_unknown)-1)) %>%\n",
    "dplyr::select(time_onset, published, total_normal) %>% \n",
    "rename(t = time_onset, onset = published) -> dt.backproj_onset\n",
    "\n",
    "## merge the back-projected data with cases whose date of illness onset was available\n",
    "merge(master_onset, dt.backproj_onset, by=c('onset'), all.y=TRUE) %>% \n",
    "mutate(total = total_normal + n) %>% dplyr::select(onset, total) -> df_onset\n",
    "df_onset[is.na(df_onset)] <- 0"
   ]
  },
  {
   "cell_type": "markdown",
   "metadata": {},
   "source": [
    "### Backprojection from the illness onset to time of infection"
   ]
  },
  {
   "cell_type": "code",
   "execution_count": null,
   "metadata": {},
   "outputs": [],
   "source": [
    "## adding extra 10 days for the stability of back-projection procedure\n",
    "temp_lastdays <- matrix(NA, ncol=1, nrow=10)\n",
    "temp_lastdays %<>% as.data.frame() %>% mutate(onset=as.Date((max(df_onset$onset)+1):(max(df_onset$onset)+10)),\n",
    "                                              total=0) %>% dplyr::select(-V1)\n",
    "rbind(df_onset, temp_lastdays) -> df_onset\n",
    "df_onset %<>% mutate(time_onset = 1:nrow(df_onset))\n",
    "\n",
    "\n",
    "## incubation period\n",
    "K = nrow(df_onset)\n",
    "incubation_probability = plnorm(1:K, inc_fit$meanlog, inc_fit$sdlog) - plnorm(1:K-1, inc_fit$meanlog, inc_fit$sdlog)\n",
    "inc_pmf = c(0,incubation_probability[1:21])\n",
    "\n",
    "\n",
    "## back-projecton of domestic cases\n",
    "sts = new(\"sts\", epoch=df_onset$time_onset, observed=df_onset$total)\n",
    "bpnp.control = list(k = 4, eps = rep(1e-4,2), iter.max=rep(1000,2), \n",
    "                    Tmark = nrow(sts), B = -1, alpha = 0.01, verbose = FALSE, lambda0 = NULL, \n",
    "                    eq3a.method = c(\"R\",\"C\"))\n",
    "sts_bp = backprojNP(sts, incu.pmf=inc_pmf, control=modifyList(bpnp.control,list(eq3a.method=\"C\")))\n",
    "df_onset$total_backproj = upperbound(sts_bp)\n",
    "\n",
    "\n",
    "## normalizing the back-projected cases\n",
    "df_onset$total_backproj[df_onset$total_backproj<=0.01] <- 0\n",
    "\n",
    "df_onset %>% mutate(total_normal = total_backproj/sum(total_backproj)*sum(total),\n",
    "                    time_onset=0:(nrow(df_onset)-1)) %>%\n",
    "dplyr::select(time_onset, onset, total_normal) %>% \n",
    "rename(t = time_onset, total=total_normal) -> dt.backproj_before"
   ]
  },
  {
   "cell_type": "markdown",
   "metadata": {},
   "source": [
    "### (2) Cases published from May 1, 2020 to May 31, 2021"
   ]
  },
  {
   "cell_type": "code",
   "execution_count": null,
   "metadata": {},
   "outputs": [],
   "source": [
    "## data for cases with the illness onset\n",
    "master_df %>% filter(published >= as.Date(\"2020-05-01\") & published < as.Date(\"2021-06-01\")) %>% \n",
    "filter(!is.na(onset)) -> onset_Korea\n",
    "onset_Korea %>% group_by(onset) %>% count() %>% as.data.frame() -> master_onset\n",
    "merge(ttime_onset, master_onset, by='onset', all.x=TRUE) -> master_onset\n",
    "master_onset[is.na(master_onset)] <- 0\n",
    "master_onset %<>% dplyr::select(onset, n)\n",
    "\n",
    "## data for cases with the unknown illness onset (excluding the asymptomatic cases)\n",
    "master_df %>% filter(published >= as.Date(\"2020-05-01\") & published < as.Date(\"2021-06-01\")) %>% \n",
    "filter(is.na(onset)) -> unknown_Korea\n",
    "unknown_Korea %>% group_by(published) %>% count() %>% as.data.frame() -> master_unknown\n",
    "merge(ttime, master_unknown, by='published', all.x=TRUE) -> master_unknown\n",
    "master_unknown[is.na(master_unknown)] <- 0\n",
    "master_unknown %<>% dplyr::select(published, n)\n",
    "\n",
    "temp_start <- matrix(NA, ncol=1, nrow=as.numeric(min(master_unknown$published)-as.Date(\"2020-01-01\")))\n",
    "temp_start %<>% as.data.frame() %>% \n",
    "mutate(published = as.Date(min_backproj:(min(master_unknown$published)-1)), n=0) %>% dplyr::select(-V1)\n",
    "rbind(temp_start, master_unknown) -> master_unknown"
   ]
  },
  {
   "cell_type": "markdown",
   "metadata": {},
   "source": [
    "### Backprojection from the published date to symptom onset"
   ]
  },
  {
   "cell_type": "code",
   "execution_count": null,
   "metadata": {},
   "outputs": [],
   "source": [
    "## adding extra 10 days for the stability of back-projection procedure\n",
    "temp_lastdays <- matrix(NA, ncol=1, nrow=10)\n",
    "temp_lastdays %<>% as.data.frame() %>% \n",
    "mutate(published=as.Date((max(master_unknown$published)+1):(max(master_unknown$published)+10)),n=0) %>% \n",
    "dplyr::select(-V1)\n",
    "rbind(master_unknown, temp_lastdays) -> master_unknown\n",
    "master_unknown %<>% mutate(time_onset = 1:nrow(master_unknown))\n",
    "\n",
    "\n",
    "## time delay from the illness onset to published date\n",
    "K = nrow(master_unknown)\n",
    "report_probability = pweibull(1:K, shape=delay_stepp$shape[2], scale=delay_stepp$scale[2]) - \n",
    "                     pweibull(1:K-1, shape=delay_stepp$shape[2], scale=delay_stepp$scale[2])\n",
    "report_pmf = c(0,report_probability[1:21])\n",
    "\n",
    "\n",
    "## back-projecton of domestic cases\n",
    "sts = new(\"sts\", epoch=master_unknown$time_onset, observed=master_unknown$n)\n",
    "bpnp.control = list(k = 4, eps = rep(1e-4,2), iter.max=rep(1000,2), \n",
    "                    Tmark = nrow(sts), B = -1, alpha = 0.01, verbose = FALSE, lambda0 = NULL, \n",
    "                    eq3a.method = c(\"R\",\"C\"))\n",
    "sts_bp = backprojNP(sts, incu.pmf=report_pmf, control=modifyList(bpnp.control,list(eq3a.method=\"C\")))\n",
    "master_unknown$total_backproj = upperbound(sts_bp)\n",
    "\n",
    "\n",
    "## normalizing the back-projected cases\n",
    "master_unknown$total_backproj[master_unknown$total_backproj<=0.01] <- 0\n",
    "\n",
    "master_unknown %>% mutate(total_normal = total_backproj/sum(total_backproj)*sum(n),\n",
    "                          time_onset=0:(nrow(master_unknown)-1)) %>%\n",
    "dplyr::select(time_onset, published, total_normal) %>% \n",
    "rename(t = time_onset, onset = published) -> dt.backproj_onset\n",
    "\n",
    "## merge the back-projected data with cases whose date of illness onset was available\n",
    "merge(master_onset, dt.backproj_onset, by=c('onset'), all.y=TRUE) %>% \n",
    "mutate(total = total_normal + n) %>% dplyr::select(onset, total) -> df_onset\n",
    "df_onset[is.na(df_onset)] <- 0"
   ]
  },
  {
   "cell_type": "markdown",
   "metadata": {},
   "source": [
    "### Backprojection from the illness onset to time of infection"
   ]
  },
  {
   "cell_type": "code",
   "execution_count": null,
   "metadata": {},
   "outputs": [],
   "source": [
    "## adding extra 10 days for the stability of back-projection procedure\n",
    "temp_lastdays <- matrix(NA, ncol=1, nrow=10)\n",
    "temp_lastdays %<>% as.data.frame() %>% mutate(onset=as.Date((max(df_onset$onset)+1):(max(df_onset$onset)+10)),\n",
    "                                              total=0) %>% dplyr::select(-V1)\n",
    "rbind(df_onset, temp_lastdays) -> df_onset\n",
    "df_onset %<>% mutate(time_onset = 1:nrow(df_onset))\n",
    "\n",
    "\n",
    "## incubation period\n",
    "K = nrow(df_onset)\n",
    "incubation_probability = plnorm(1:K, inc_fit$meanlog, inc_fit$sdlog) - plnorm(1:K-1, inc_fit$meanlog, inc_fit$sdlog)\n",
    "inc_pmf = c(0,incubation_probability[1:21])\n",
    "\n",
    "\n",
    "## back-projecton of domestic cases\n",
    "sts = new(\"sts\", epoch=df_onset$time_onset, observed=df_onset$total)\n",
    "bpnp.control = list(k = 4, eps = rep(1e-4,2), iter.max=rep(1000,2), \n",
    "                    Tmark = nrow(sts), B = -1, alpha = 0.01, verbose = FALSE, lambda0 = NULL, \n",
    "                    eq3a.method = c(\"R\",\"C\"))\n",
    "sts_bp = backprojNP(sts, incu.pmf=inc_pmf, control=modifyList(bpnp.control,list(eq3a.method=\"C\")))\n",
    "df_onset$total_backproj = upperbound(sts_bp)\n",
    "\n",
    "\n",
    "## normalizing the back-projected cases\n",
    "df_onset$total_backproj[df_onset$total_backproj<=0.01] <- 0\n",
    "\n",
    "df_onset %>% mutate(total_normal = total_backproj/sum(total_backproj)*sum(total),\n",
    "                    time_onset=0:(nrow(df_onset)-1)) %>%\n",
    "dplyr::select(time_onset, onset, total_normal) %>% \n",
    "rename(t = time_onset, total=total_normal) -> dt.backproj_after"
   ]
  },
  {
   "cell_type": "markdown",
   "metadata": {},
   "source": [
    "### (3) Cases reported from June, 1 2021 to February 28, 2022 (based on the estimated change points)"
   ]
  },
  {
   "cell_type": "code",
   "execution_count": null,
   "metadata": {},
   "outputs": [],
   "source": [
    "## cases with the reported symptom onset\n",
    "master_df %>% \n",
    "filter(published >= as.Date(\"2021-06-01\") & published < as.Date(\"2022-03-01\")) %>% filter(!is.na(onset)) -> onset_Korea\n",
    "onset_Korea %>% group_by(onset) %>% count() %>% as.data.frame() -> master_onset\n",
    "merge(ttime_onset, master_onset, by='onset', all.x=TRUE) -> master_onset\n",
    "master_onset[is.na(master_onset)] <- 0\n",
    "master_onset %>% dplyr::select(onset, n) -> master_onset\n",
    "\n",
    "merge(master_onset, prop_variant_assumed %>% rename(onset=Date), by=c(\"onset\"), all.x=TRUE) %>%\n",
    "mutate(n_Omi = n*Omicron, n_non_Omi=n*Non_Omicron) %>% \n",
    "dplyr::select(onset, n_Omi, n_non_Omi) -> master_onset_all"
   ]
  },
  {
   "cell_type": "code",
   "execution_count": null,
   "metadata": {},
   "outputs": [],
   "source": [
    "## cases with unknown symptom onset date (excluding the asymptomatic cases)\n",
    "master_df %>% filter(published >= as.Date(\"2021-06-01\") & published < as.Date(\"2022-03-01\")) %>%\n",
    "filter(is.na(onset)) -> unknown_Korea\n",
    "unknown_Korea %>% group_by(published) %>% count() %>% as.data.frame() -> master_unknown\n",
    "merge(ttime, master_unknown, by='published', all.x=TRUE) -> master_unknown\n",
    "master_unknown[is.na(master_unknown)] <- 0\n",
    "master_unknown %<>% dplyr::select(published, n)\n",
    "\n",
    "temp_start <- matrix(NA, ncol=1, nrow=as.numeric(min(master_unknown$published)-as.Date(\"2020-01-01\")))\n",
    "temp_start %<>% as.data.frame() %>% \n",
    "mutate(published = as.Date(min_backproj:(min(master_unknown$published)-1)), n=0) %>% dplyr::select(-V1)\n",
    "rbind(temp_start, master_unknown) -> master_unknown\n",
    "\n",
    "merge(master_unknown, prop_variant_assumed %>% rename(published=Date), by=c(\"published\"), all.x=TRUE) %>%\n",
    "filter(published >= min_backproj) %>%\n",
    "mutate(n_Omi = n*Omicron, n_non_Omi=n*Non_Omicron) %>% \n",
    "dplyr::select(published, n_Omi, n_non_Omi) -> master_unknown_all"
   ]
  },
  {
   "cell_type": "markdown",
   "metadata": {},
   "source": [
    "### (3-1) Non-Omicron cases"
   ]
  },
  {
   "cell_type": "code",
   "execution_count": null,
   "metadata": {},
   "outputs": [],
   "source": [
    "master_onset_all %>% dplyr::select(onset, n_non_Omi) %>% rename(n=n_non_Omi) -> master_onset\n",
    "master_unknown_all %>% dplyr::select(published, n_non_Omi) %>% rename(n=n_non_Omi) -> master_unknown"
   ]
  },
  {
   "cell_type": "markdown",
   "metadata": {},
   "source": [
    "### Backprojection from the published date to symptom onset"
   ]
  },
  {
   "cell_type": "code",
   "execution_count": null,
   "metadata": {},
   "outputs": [],
   "source": [
    "## adding extra 10 days for the stability of back-projection procedure\n",
    "temp_lastdays <- matrix(NA, ncol=1, nrow=10)\n",
    "temp_lastdays %<>% as.data.frame() %>% \n",
    "mutate(published=as.Date((max(master_unknown$published)+1):(max(master_unknown$published)+10)),n=0) %>% \n",
    "dplyr::select(-V1)\n",
    "rbind(master_unknown, temp_lastdays) -> master_unknown\n",
    "master_unknown %<>% mutate(time_onset = 1:nrow(master_unknown))\n",
    "\n",
    "\n",
    "## time delay from the illness onset to published date\n",
    "K = nrow(master_unknown)\n",
    "report_probability = pweibull(1:K, shape=delay_stepp$shape[3], scale=delay_stepp$scale[3]) - \n",
    "                     pweibull(1:K-1, shape=delay_stepp$shape[3], scale=delay_stepp$scale[3])\n",
    "report_pmf = c(0,report_probability[1:21])\n",
    "\n",
    "\n",
    "## back-projecton of domestic cases\n",
    "sts = new(\"sts\", epoch=master_unknown$time_onset, observed=master_unknown$n)\n",
    "bpnp.control = list(k = smooth_k, eps = rep(1e-4,2), iter.max=rep(1000,2), \n",
    "                    Tmark = nrow(sts), B = -1, alpha = 0.01, verbose = FALSE, lambda0 = NULL, \n",
    "                    eq3a.method = c(\"R\",\"C\"))\n",
    "sts_bp = backprojNP(sts, incu.pmf=report_pmf, control=modifyList(bpnp.control,list(eq3a.method=\"C\")))\n",
    "master_unknown$total_backproj = upperbound(sts_bp)\n",
    "\n",
    "\n",
    "## normalizing the back-projected cases\n",
    "master_unknown$total_backproj[master_unknown$total_backproj<=0.01] <- 0\n",
    "\n",
    "master_unknown %>% mutate(total_normal = total_backproj/sum(total_backproj)*sum(n),\n",
    "                          time_onset=0:(nrow(master_unknown)-1)) %>%\n",
    "dplyr::select(time_onset, published, total_normal) %>% \n",
    "rename(t = time_onset, onset = published) -> dt.backproj_onset\n",
    "\n",
    "## merge the back-projected data with cases whose date of illness onset was available\n",
    "merge(master_onset, dt.backproj_onset, by=c('onset'), all.y=TRUE) %>% \n",
    "mutate(total = total_normal + n) %>% dplyr::select(onset, total) -> df_onset\n",
    "df_onset[is.na(df_onset)] <- 0"
   ]
  },
  {
   "cell_type": "markdown",
   "metadata": {},
   "source": [
    "### Backprojection from the illness onset to time of infection"
   ]
  },
  {
   "cell_type": "code",
   "execution_count": null,
   "metadata": {},
   "outputs": [],
   "source": [
    "## adding extra 10 days for the stability of back-projection procedure\n",
    "temp_lastdays <- matrix(NA, ncol=1, nrow=10)\n",
    "temp_lastdays %<>% as.data.frame() %>% mutate(onset=as.Date((max(df_onset$onset)+1):(max(df_onset$onset)+10)),\n",
    "                                              total=0) %>% dplyr::select(-V1)\n",
    "rbind(df_onset, temp_lastdays) -> df_onset\n",
    "df_onset %<>% mutate(time_onset = 1:nrow(df_onset))\n",
    "\n",
    "\n",
    "## incubation period\n",
    "K = nrow(df_onset)\n",
    "incubation_probability = plnorm(1:K, inc_fit$meanlog, inc_fit$sdlog) - plnorm(1:K-1, inc_fit$meanlog, inc_fit$sdlog)\n",
    "inc_pmf = c(0,incubation_probability[1:21])\n",
    "\n",
    "\n",
    "## back-projecton of domestic cases\n",
    "sts = new(\"sts\", epoch=df_onset$time_onset, observed=df_onset$total)\n",
    "bpnp.control = list(k = smooth_k, eps = rep(1e-4,2), iter.max=rep(1000,2), \n",
    "                    Tmark = nrow(sts), B = -1, alpha = 0.01, verbose = FALSE, lambda0 = NULL, \n",
    "                    eq3a.method = c(\"R\",\"C\"))\n",
    "sts_bp = backprojNP(sts, incu.pmf=inc_pmf, control=modifyList(bpnp.control,list(eq3a.method=\"C\")))\n",
    "df_onset$total_backproj = upperbound(sts_bp)\n",
    "\n",
    "\n",
    "## normalizing the back-projected cases\n",
    "df_onset$total_backproj[df_onset$total_backproj<=0.01] <- 0\n",
    "\n",
    "df_onset %>% mutate(total_normal = total_backproj/sum(total_backproj)*sum(total),\n",
    "                    time_onset=0:(nrow(df_onset)-1)) %>%\n",
    "dplyr::select(time_onset, onset, total_normal) %>% \n",
    "rename(t = time_onset, total=total_normal) -> dt.backproj_after2_non_Omi"
   ]
  },
  {
   "cell_type": "markdown",
   "metadata": {},
   "source": [
    "### (3-2) Omicron cases"
   ]
  },
  {
   "cell_type": "code",
   "execution_count": null,
   "metadata": {},
   "outputs": [],
   "source": [
    "master_onset_all %>% dplyr::select(onset, n_Omi) %>% rename(n=n_Omi) -> master_onset\n",
    "master_unknown_all %>% dplyr::select(published, n_Omi) %>% rename(n=n_Omi) -> master_unknown"
   ]
  },
  {
   "cell_type": "markdown",
   "metadata": {},
   "source": [
    "### Backprojection from the published date to symptom onset"
   ]
  },
  {
   "cell_type": "code",
   "execution_count": null,
   "metadata": {},
   "outputs": [],
   "source": [
    "## adding extra 10 days for the stability of back-projection procedure\n",
    "temp_lastdays <- matrix(NA, ncol=1, nrow=10)\n",
    "temp_lastdays %<>% as.data.frame() %>% \n",
    "mutate(published=as.Date((max(master_unknown$published)+1):(max(master_unknown$published)+10)),n=0) %>% \n",
    "dplyr::select(-V1)\n",
    "rbind(master_unknown, temp_lastdays) -> master_unknown\n",
    "master_unknown %<>% mutate(time_onset = 1:nrow(master_unknown))\n",
    "\n",
    "\n",
    "## time delay from the illness onset to published date\n",
    "K = nrow(master_unknown)\n",
    "report_probability = pweibull(1:K, shape=delay_stepp$shape[3], scale=delay_stepp$scale[3]) - \n",
    "                     pweibull(1:K-1, shape=delay_stepp$shape[3], scale=delay_stepp$scale[3])\n",
    "report_pmf = c(0,report_probability[1:21])\n",
    "\n",
    "\n",
    "## back-projecton of domestic cases\n",
    "sts = new(\"sts\", epoch=master_unknown$time_onset, observed=master_unknown$n)\n",
    "bpnp.control = list(k = smooth_k, eps = rep(1e-4,2), iter.max=rep(1000,2), \n",
    "                    Tmark = nrow(sts), B = -1, alpha = 0.01, verbose = FALSE, lambda0 = NULL, \n",
    "                    eq3a.method = c(\"R\",\"C\"))\n",
    "sts_bp = backprojNP(sts, incu.pmf=report_pmf, control=modifyList(bpnp.control,list(eq3a.method=\"C\")))\n",
    "master_unknown$total_backproj = upperbound(sts_bp)\n",
    "\n",
    "\n",
    "## normalizing the back-projected cases\n",
    "master_unknown$total_backproj[master_unknown$total_backproj<=0.01] <- 0\n",
    "\n",
    "master_unknown %>% mutate(total_normal = total_backproj/sum(total_backproj)*sum(n),\n",
    "                          time_onset=0:(nrow(master_unknown)-1)) %>%\n",
    "dplyr::select(time_onset, published, total_normal) %>% \n",
    "rename(t = time_onset, onset = published) -> dt.backproj_onset\n",
    "\n",
    "## merge the back-projected data with cases whose date of illness onset was available\n",
    "merge(master_onset, dt.backproj_onset, by=c('onset'), all.y=TRUE) %>% \n",
    "mutate(total = total_normal + n) %>% dplyr::select(onset, total) -> df_onset\n",
    "df_onset[is.na(df_onset)] <- 0"
   ]
  },
  {
   "cell_type": "markdown",
   "metadata": {},
   "source": [
    "### Backprojection from the illness onset to time of infection"
   ]
  },
  {
   "cell_type": "code",
   "execution_count": null,
   "metadata": {},
   "outputs": [],
   "source": [
    "## adding extra 10 days for the stability of back-projection procedure\n",
    "temp_lastdays <- matrix(NA, ncol=1, nrow=10)\n",
    "temp_lastdays %<>% as.data.frame() %>% mutate(onset=as.Date((max(df_onset$onset)+1):(max(df_onset$onset)+10)),\n",
    "                                              total=0) %>% dplyr::select(-V1)\n",
    "rbind(df_onset, temp_lastdays) -> df_onset\n",
    "df_onset %<>% mutate(time_onset = 1:nrow(df_onset))\n",
    "\n",
    "\n",
    "## incubation period\n",
    "K = nrow(df_onset)\n",
    "incubation_probability = pweibull(1:K, inc_fit_omi$shape, inc_fit_omi$scale) - \n",
    "                         pweibull(1:K-1, inc_fit_omi$shape, inc_fit_omi$scale)\n",
    "inc_pmf = c(0,incubation_probability[1:21])\n",
    "\n",
    "\n",
    "## back-projecton of domestic cases\n",
    "sts = new(\"sts\", epoch=df_onset$time_onset, observed=df_onset$total)\n",
    "bpnp.control = list(k = smooth_k, eps = rep(1e-4,2), iter.max=rep(1000,2), \n",
    "                    Tmark = nrow(sts), B = -1, alpha = 0.01, verbose = FALSE, lambda0 = NULL, \n",
    "                    eq3a.method = c(\"R\",\"C\"))\n",
    "sts_bp = backprojNP(sts, incu.pmf=inc_pmf, control=modifyList(bpnp.control,list(eq3a.method=\"C\")))\n",
    "df_onset$total_backproj = upperbound(sts_bp)\n",
    "\n",
    "\n",
    "## normalizing the back-projected cases\n",
    "df_onset$total_backproj[df_onset$total_backproj<=0.01] <- 0\n",
    "\n",
    "df_onset %>% mutate(total_normal = total_backproj/sum(total_backproj)*sum(total),\n",
    "                    time_onset=0:(nrow(df_onset)-1)) %>%\n",
    "dplyr::select(time_onset, onset, total_normal) %>% \n",
    "rename(t = time_onset, total=total_normal) -> dt.backproj_after2_Omi"
   ]
  },
  {
   "cell_type": "markdown",
   "metadata": {},
   "source": [
    "### (4) Cases reported from March 1, 2022 (based on the estimated change points)"
   ]
  },
  {
   "cell_type": "code",
   "execution_count": null,
   "metadata": {},
   "outputs": [],
   "source": [
    "## data for cases with the illness onset\n",
    "master_df %>% filter(published >= as.Date(\"2022-03-01\")) %>% filter(!is.na(onset)) -> onset_Korea\n",
    "onset_Korea %>% group_by(onset) %>% count() %>% as.data.frame() -> master_onset\n",
    "merge(ttime_onset, master_onset, by='onset', all.x=TRUE) -> master_onset\n",
    "master_onset[is.na(master_onset)] <- 0\n",
    "master_onset %<>% dplyr::select(onset, n)\n",
    "\n",
    "## data for cases with the unknown illness onset (excluding the asymptomatic cases)\n",
    "master_df %>% filter(published >= as.Date(\"2022-03-01\")) %>% filter(is.na(onset)) -> unknown_Korea\n",
    "unknown_Korea %>% group_by(published) %>% count() %>% as.data.frame() -> master_unknown\n",
    "merge(ttime, master_unknown, by='published', all.x=TRUE) -> master_unknown\n",
    "master_unknown[is.na(master_unknown)] <- 0\n",
    "master_unknown %<>% dplyr::select(published, n)\n",
    "\n",
    "temp_start <- matrix(NA, ncol=1, nrow=as.numeric(min(master_unknown$published)-as.Date(\"2020-01-01\")))\n",
    "temp_start %<>% as.data.frame() %>% \n",
    "mutate(published = as.Date(min_backproj:(min(master_unknown$published)-1)), n=0) %>% dplyr::select(-V1)\n",
    "rbind(temp_start, master_unknown) -> master_unknown"
   ]
  },
  {
   "cell_type": "markdown",
   "metadata": {},
   "source": [
    "### Backprojection from the published date to symptom onset"
   ]
  },
  {
   "cell_type": "code",
   "execution_count": null,
   "metadata": {},
   "outputs": [],
   "source": [
    "## adding extra 10 days for the stability of back-projection procedure\n",
    "temp_lastdays <- matrix(NA, ncol=1, nrow=10)\n",
    "temp_lastdays %<>% as.data.frame() %>% \n",
    "mutate(published=as.Date((max(master_unknown$published)+1):(max(master_unknown$published)+10)),n=0) %>% \n",
    "dplyr::select(-V1)\n",
    "rbind(master_unknown, temp_lastdays) -> master_unknown\n",
    "master_unknown %<>% mutate(time_onset = 1:nrow(master_unknown))\n",
    "\n",
    "\n",
    "## time delay from the illness onset to published date\n",
    "K = nrow(master_unknown)\n",
    "report_probability = pweibull(1:K, shape=delay_stepp$shape[4], scale=delay_stepp$scale[4]) - \n",
    "                     pweibull(1:K-1, shape=delay_stepp$shape[4], scale=delay_stepp$scale[4])\n",
    "report_pmf = c(0,report_probability[1:21])\n",
    "\n",
    "\n",
    "## back-projecton of domestic cases\n",
    "sts = new(\"sts\", epoch=master_unknown$time_onset, observed=master_unknown$n)\n",
    "bpnp.control = list(k = smooth_k, eps = rep(1e-4,2), iter.max=rep(1000,2), \n",
    "                    Tmark = nrow(sts), B = -1, alpha = 0.01, verbose = FALSE, lambda0 = NULL, \n",
    "                    eq3a.method = c(\"R\",\"C\"))\n",
    "sts_bp = backprojNP(sts, incu.pmf=report_pmf, control=modifyList(bpnp.control,list(eq3a.method=\"C\")))\n",
    "master_unknown$total_backproj = upperbound(sts_bp)\n",
    "\n",
    "\n",
    "## normalizing the back-projected cases\n",
    "master_unknown$total_backproj[master_unknown$total_backproj<=0.01] <- 0\n",
    "\n",
    "master_unknown %>% mutate(total_normal = total_backproj/sum(total_backproj)*sum(n),\n",
    "                          time_onset=0:(nrow(master_unknown)-1)) %>%\n",
    "dplyr::select(time_onset, published, total_normal) %>% \n",
    "rename(t = time_onset, onset = published) -> dt.backproj_onset\n",
    "\n",
    "## merge the back-projected data with cases whose date of illness onset was available\n",
    "merge(master_onset, dt.backproj_onset, by=c('onset'), all.y=TRUE) %>% \n",
    "mutate(total = total_normal + n) %>% dplyr::select(onset, total) -> df_onset\n",
    "df_onset[is.na(df_onset)] <- 0"
   ]
  },
  {
   "cell_type": "markdown",
   "metadata": {},
   "source": [
    "### Backprojection from the illness onset to time of infection"
   ]
  },
  {
   "cell_type": "code",
   "execution_count": null,
   "metadata": {},
   "outputs": [],
   "source": [
    "## adding extra 10 days for the stability of back-projection procedure\n",
    "temp_lastdays <- matrix(NA, ncol=1, nrow=10)\n",
    "temp_lastdays %<>% as.data.frame() %>% mutate(onset=as.Date((max(df_onset$onset)+1):(max(df_onset$onset)+10)),\n",
    "                                              total=0) %>% dplyr::select(-V1)\n",
    "rbind(df_onset, temp_lastdays) -> df_onset\n",
    "df_onset %<>% mutate(time_onset = 1:nrow(df_onset))\n",
    "\n",
    "\n",
    "## incubation period\n",
    "K = nrow(df_onset)\n",
    "incubation_probability = pweibull(1:K, inc_fit_omi$shape, inc_fit_omi$scale) - \n",
    "                         pweibull(1:K-1, inc_fit_omi$shape, inc_fit_omi$scale)\n",
    "inc_pmf = c(0,incubation_probability[1:21])\n",
    "\n",
    "\n",
    "## back-projecton of domestic cases\n",
    "sts = new(\"sts\", epoch=df_onset$time_onset, observed=df_onset$total)\n",
    "bpnp.control = list(k = smooth_k, eps = rep(1e-4,2), iter.max=rep(1000,2), \n",
    "                    Tmark = nrow(sts), B = -1, alpha = 0.01, verbose = FALSE, lambda0 = NULL, \n",
    "                    eq3a.method = c(\"R\",\"C\"))\n",
    "sts_bp = backprojNP(sts, incu.pmf=inc_pmf, control=modifyList(bpnp.control,list(eq3a.method=\"C\")))\n",
    "df_onset$total_backproj = upperbound(sts_bp)\n",
    "\n",
    "\n",
    "## normalizing the back-projected cases\n",
    "df_onset$total_backproj[df_onset$total_backproj<=0.01] <- 0\n",
    "\n",
    "df_onset %>% mutate(total_normal = total_backproj/sum(total_backproj)*sum(total),\n",
    "                    time_onset=0:(nrow(df_onset)-1)) %>%\n",
    "dplyr::select(time_onset, onset, total_normal) %>% \n",
    "rename(t = time_onset, total=total_normal) -> dt.backproj_after3"
   ]
  },
  {
   "cell_type": "markdown",
   "metadata": {},
   "source": [
    "## Merging all the back-projected incidences"
   ]
  },
  {
   "cell_type": "code",
   "execution_count": null,
   "metadata": {},
   "outputs": [],
   "source": [
    "## For the non-Omicron cases\n",
    "df_list <- list(dt.backproj_before, dt.backproj_after, dt.backproj_after2_non_Omi)\n",
    "Reduce(function(x, y) merge(x, y, by=c(\"onset\"), all=TRUE), df_list) %>%\n",
    "rowwise() %>% mutate(total_agg=sum(c_across(cols = starts_with('total')))) %>% ungroup() %>%\n",
    "dplyr::select(onset, t, total_agg) %>% rename(total=total_agg) -> dt.backproj_non_Omi\n",
    "       \n",
    "## for the Omicron cases\n",
    "merge(dt.backproj_after2_Omi, dt.backproj_after3, by=c(\"onset\"), all=TRUE) %>% \n",
    "rowwise() %>% mutate(total_agg=sum(c_across(cols = starts_with('total')))) %>% ungroup() %>% \n",
    "dplyr::select(onset, t.x, total_agg) %>% rename(t=t.x, total=total_agg) -> dt.backproj_Omi       \n",
    "       \n",
    "## for all cases\n",
    "df_list <- list(dt.backproj_before, dt.backproj_after %>% rename(total_after=total, t_after=t),\n",
    "                dt.backproj_after2_non_Omi %>% rename(total_after2_non_Omi=total, t_after2_non_Omi=t), \n",
    "                dt.backproj_after2_Omi %>% rename(total_after2_Omi=total, t_after2_Omi=t), \n",
    "                dt.backproj_after3 %>% rename(total_after3=total, t_after3=t))\n",
    "Reduce(function(x, y) merge(x, y, by=c(\"onset\"), all=TRUE), df_list) %>%\n",
    "rowwise() %>% mutate(total_agg=sum(c_across(cols = starts_with('total')))) %>% ungroup() %>%\n",
    "dplyr::select(onset, t, total_agg) %>% rename(total=total_agg)  -> dt.backproj_all\n",
    "\n",
    "saveRDS(dt.backproj_after2_non_Omi, \"backproj_cases_non_Omi.rds\")\n",
    "saveRDS(dt.backproj_after2_Omi, \"backproj_cases_Omi.rds\")\n",
    "saveRDS(dt.backproj_after3, \"backproj_cases_last.rds\")"
   ]
  },
  {
   "cell_type": "code",
   "execution_count": null,
   "metadata": {},
   "outputs": [],
   "source": [
    "## 7-days moving average\n",
    "dt.backproj_non_Omi %>%\n",
    "mutate(MA_total = zoo::rollmean(total, k=MV, align=\"right\", fill=NA)) %>% na.omit() %>%\n",
    "mutate(total_normal = MA_total/sum(MA_total)*sum(total)) %>% dplyr::select(onset, t, total_normal) %>%\n",
    "rename(total=total_normal) -> dt.backproj_non_Omi_MA\n",
    "\n",
    "dt.backproj_Omi %>%\n",
    "mutate(MA_total = zoo::rollmean(total, k=MV, align=\"right\", fill=NA)) %>% na.omit() %>%\n",
    "mutate(total_normal = MA_total/sum(MA_total)*sum(total)) %>% dplyr::select(onset, t, total_normal) %>%\n",
    "rename(total=total_normal) -> dt.backproj_Omi_MA\n",
    "\n",
    "dt.backproj_non_Omi_MA %<>% mutate(t=0:(nrow(dt.backproj_non_Omi_MA)-1))\n",
    "dt.backproj_Omi_MA %<>% mutate(t=0:(nrow(dt.backproj_Omi_MA)-1))\n",
    "\n",
    "saveRDS(dt.backproj_non_Omi_MA, \"backproj_cases_non_Omi_MA.rds\")\n",
    "saveRDS(dt.backproj_Omi_MA, \"backproj_cases_Omi_MA.rds\")"
   ]
  }
 ],
 "metadata": {
  "kernelspec": {
   "display_name": "R",
   "language": "R",
   "name": "ir"
  },
  "language_info": {
   "codemirror_mode": "r",
   "file_extension": ".r",
   "mimetype": "text/x-r-source",
   "name": "R",
   "pygments_lexer": "r",
   "version": "4.3.2"
  }
 },
 "nbformat": 4,
 "nbformat_minor": 4
}
