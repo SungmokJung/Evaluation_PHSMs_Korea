{
 "cells": [
  {
   "cell_type": "code",
   "execution_count": 23,
   "metadata": {},
   "outputs": [
    {
     "data": {
      "text/html": [
       "'R version 4.2.2 (2022-10-31)'"
      ],
      "text/latex": [
       "'R version 4.2.2 (2022-10-31)'"
      ],
      "text/markdown": [
       "'R version 4.2.2 (2022-10-31)'"
      ],
      "text/plain": [
       "[1] \"R version 4.2.2 (2022-10-31)\""
      ]
     },
     "metadata": {},
     "output_type": "display_data"
    }
   ],
   "source": [
    "libraries = c(\"dplyr\",\"magrittr\",\"tidyr\",\"ggplot2\",\"RColorBrewer\",\"zoo\",\"lubridate\",\"tidyverse\",\n",
    "              \"readxl\",\"gridExtra\",\"MASS\",\"ggpubr\")\n",
    "for(x in libraries) {library(x, character.only=TRUE, warn.conflicts=FALSE, quietly=TRUE)}\n",
    "\n",
    "'%&%' = function(x,y)paste0(x,y)\n",
    "\n",
    "theme_set(theme_bw())\n",
    "version$version.string\n",
    "\n",
    "options(scipen=10000)"
   ]
  },
  {
   "cell_type": "markdown",
   "metadata": {},
   "source": [
    "# Settings"
   ]
  },
  {
   "cell_type": "code",
   "execution_count": 24,
   "metadata": {},
   "outputs": [],
   "source": [
    "readRDS(\"backproj_cases_non_Omi_MA.rds\") %>% \n",
    "filter(onset >= as.Date(\"2020-01-15\") & onset <= as.Date(\"2021-12-31\")) -> temp\n",
    "temp %>% mutate(t=0:(nrow(temp)-1)) -> backproj_Delta\n",
    "\n",
    "readRDS(\"backproj_cases_Omi_MA.rds\") %>% \n",
    "filter(onset >= as.Date(\"2020-01-15\") & onset <= as.Date(\"2022-06-30\")) -> temp\n",
    "temp %>% mutate(t=0:(nrow(temp)-1)) -> backproj_Omicron"
   ]
  },
  {
   "cell_type": "code",
   "execution_count": 3,
   "metadata": {},
   "outputs": [],
   "source": [
    "readRDS(\"RDS/immune_total_Delta_wDate.RDS\") -> immune_total_Delta\n",
    "readRDS(\"RDS/immune_total_Omi_wDate.RDS\") -> immune_total_Omi"
   ]
  },
  {
   "cell_type": "code",
   "execution_count": 4,
   "metadata": {},
   "outputs": [],
   "source": [
    "## implementation time of major NPIs\n",
    "NPI_0 <- as.Date(\"2021-11-01\") ## announcing the gradual ease of the social distancing countermeasures\n",
    "NPI_1 <- as.Date(\"2021-12-06\") ## state of emergency\n",
    "NPI_2 <- as.Date(\"2022-02-19\") ## extending the restricted operation hour(21 -> 22)\n",
    "NPI_3 <- as.Date(\"2022-03-05\") ## extending the restricted operation hour (22 -> 23)\n",
    "NPI_4 <- as.Date(\"2022-04-04\") ## extending the restricted operation hour (23 -> 24)\n",
    "NPI_5 <- as.Date(\"2022-04-18\") ## lifting all interventions\n",
    "\n",
    "## Moving average\n",
    "MA=7"
   ]
  },
  {
   "cell_type": "markdown",
   "metadata": {},
   "source": [
    "## Generation time distribution"
   ]
  },
  {
   "cell_type": "code",
   "execution_count": 5,
   "metadata": {},
   "outputs": [],
   "source": [
    "## generation interval (Nishiura, et al, 2020)\n",
    "gi_fit = list(shape=2.305, scale=5.452)\n",
    "generation <- function(t){pweibull(t, shape = gi_fit$shape, scale = gi_fit$scale) - \n",
    "                          pweibull(t-1, shape = gi_fit$shape, scale = gi_fit$scale)}\n",
    "\n",
    "## generation time distribution (Abbott, 2022)\n",
    "gi_fit_omi = list(shape=(3.3)^2/(3.5)^2, scale=(3.5)^2/3.3)\n",
    "generation_omi <- function(t){pgamma(t, shape = gi_fit_omi$shape, scale = gi_fit_omi$scale) - \n",
    "                              pgamma(t-1, shape = gi_fit_omi$shape, scale = gi_fit_omi$scale)}"
   ]
  },
  {
   "cell_type": "markdown",
   "metadata": {},
   "source": [
    "# Effective reproduction number in Delta period"
   ]
  },
  {
   "cell_type": "code",
   "execution_count": null,
   "metadata": {},
   "outputs": [],
   "source": [
    "library(foreach); library(doParallel);\n",
    "(ncore <- detectCores(logical = FALSE))"
   ]
  },
  {
   "cell_type": "code",
   "execution_count": null,
   "metadata": {},
   "outputs": [],
   "source": [
    "myCluster <- makeCluster(ncore-1, type = \"PSOCK\")\n",
    "registerDoParallel(myCluster)\n",
    "\n",
    "backproj_Delta -> dt.backproj\n",
    "Start.T <- 533  # Start from July 1, 2021\n",
    "\n",
    "# estimating Re\n",
    "est.t <- list(); est.CI <- list()\n",
    "\n",
    "foreach(TT = Start.T:max(dt.backproj$t), .packages = c(\"dplyr\")) %dopar% {\n",
    "  dt.backproj %>% filter(t <= TT) -> dt.backproj.T\n",
    "  \n",
    "  llk <- function(param) {\n",
    "    t <- TT\n",
    "    R <- param\n",
    "    Css <- sapply(1:(t-1), function(tau) dt.backproj.T$total[t - tau + 1] * generation(tau))\n",
    "    Cs <- sum(Css) * R\n",
    "    Cs[Cs <= 0] <- 1e-5\n",
    "    return(-(-Cs + dt.backproj.T$total[t + 1] * log(Cs) - lgamma(dt.backproj.T$total[t + 1] + 1)))\n",
    "  }\n",
    "\n",
    "  opt_est <- optim(c(0.7), fn = llk, method = \"L-BFGS-B\", lower = 0, control = list(maxit = 10000))\n",
    "  est.t[[TT]] <- opt_est$par\n",
    "\n",
    "  # 95% confidence intervals using the profile likelihood\n",
    "  par_CI <- seq(0, 25, by = 0.01)\n",
    "  logLik <- sapply(par_CI, function(par) 2 * (-llk(par) + opt_est$value))\n",
    "  data_CI <- data.frame(par_CI, logLik)\n",
    "  data_CI$logLik[data_CI$logLik < (max(data_CI$logLik) - 3.84)] <- NA\n",
    "  data_CI <- na.omit(data_CI)\n",
    "  ci_pro <- data.frame(lower = min(data_CI$par_CI), upper = max(data_CI$par_CI))\n",
    "  est.CI[[TT]] <- ci_pro\n",
    "}\n",
    "\n",
    "stopCluster(myCluster)\n",
    "\n",
    "est_t <- do.call(rbind, est.t)\n",
    "est_CI <- do.call(rbind, est.CI)\n",
    "\n",
    "est <- cbind(est_t, est_CI)"
   ]
  },
  {
   "cell_type": "code",
   "execution_count": 22,
   "metadata": {},
   "outputs": [],
   "source": [
    "est %>% as.data.frame() %>% mutate(t = Start.T:max(dt.backproj$t)) -> result\n",
    "merge(dt.backproj, result, by='t', all.x=TRUE) -> result\n",
    "colnames(result) <- c(\"t\",\"onset\",\"total\",\"Rt\",\"lower\",\"upper\")"
   ]
  },
  {
   "cell_type": "code",
   "execution_count": null,
   "metadata": {},
   "outputs": [],
   "source": [
    "## 7-days moving average\n",
    "result %>%\n",
    "mutate(MA_Rt = zoo::rollmean(Rt, k=MA, align=\"right\", fill=NA),\n",
    "       MA_lower = zoo::rollmean(lower, k=MA, align=\"right\", fill=NA),\n",
    "       MA_upper = zoo::rollmean(upper, k=MA, align=\"right\", fill=NA)) %>% na.omit() -> result_MA\n",
    "\n",
    "saveRDS(result_MA, \"result_non_Omi_smooth.rds\")"
   ]
  },
  {
   "cell_type": "markdown",
   "metadata": {},
   "source": [
    "# Effective reproduction number in Omicron period"
   ]
  },
  {
   "cell_type": "code",
   "execution_count": null,
   "metadata": {},
   "outputs": [],
   "source": [
    "myCluster <- makeCluster(ncore-1, type = \"PSOCK\")\n",
    "registerDoParallel(myCluster)\n",
    "\n",
    "backproj_Omicron -> dt.backproj2\n",
    "Start.T <- 700 ## start from Dec 15, 2021\n",
    "\n",
    "# estimating Re\n",
    "est.t <- list(); est.CI <- list()\n",
    "\n",
    "foreach(TT = Start.T:max(dt.backproj2$t), .packages = c(\"dplyr\")) %dopar% {\n",
    "  dt.backproj2 %>% filter(t <= TT) -> dt.backproj.T\n",
    "  \n",
    "  llk <- function(param) {\n",
    "    t <- TT\n",
    "    R <- param\n",
    "    Css <- sapply(1:(t-1), function(tau) dt.backproj.T$total[t - tau + 1] * generation_omi(tau))\n",
    "    Cs <- sum(Css) * R\n",
    "    Cs[Cs <= 0] <- 1e-5\n",
    "    return(-(-Cs + dt.backproj.T$total[t + 1] * log(Cs) - lgamma(dt.backproj.T$total[t + 1] + 1)))\n",
    "  }\n",
    "\n",
    "  opt_est <- optim(c(0.7), fn = llk, method = \"L-BFGS-B\", lower = 0, control = list(maxit = 10000))\n",
    "  est.t[[TT]] <- opt_est$par\n",
    "\n",
    "  # 95% confidence intervals using the profile likelihood\n",
    "  par_CI <- seq(0, 25, by = 0.01)\n",
    "  logLik <- sapply(par_CI, function(par) 2 * (-llk(par) + opt_est$value))\n",
    "  data_CI <- data.frame(par_CI, logLik)\n",
    "  data_CI$logLik[data_CI$logLik < (max(data_CI$logLik) - 3.84)] <- NA\n",
    "  data_CI <- na.omit(data_CI)\n",
    "  ci_pro <- data.frame(lower = min(data_CI$par_CI), upper = max(data_CI$par_CI))\n",
    "  est.CI[[TT]] <- ci_pro\n",
    "}\n",
    "\n",
    "stopCluster(myCluster)\n",
    "\n",
    "est_t <- do.call(rbind, est.t)\n",
    "est_CI <- do.call(rbind, est.CI)\n",
    "\n",
    "est2 <- cbind(est_t, est_CI)"
   ]
  },
  {
   "cell_type": "code",
   "execution_count": 26,
   "metadata": {},
   "outputs": [],
   "source": [
    "est2 %>% as.data.frame() %>% mutate(t = Start.T:max(dt.backproj2$t)) -> result2\n",
    "merge(dt.backproj2, result2, by='t', all.x=TRUE) -> result2\n",
    "colnames(result2) <- c(\"t\",\"onset\",\"total\",\"Rt\",\"lower\",\"upper\")"
   ]
  },
  {
   "cell_type": "code",
   "execution_count": null,
   "metadata": {},
   "outputs": [],
   "source": [
    "## 7-days moving average\n",
    "result2 %>%\n",
    "mutate(MA_Rt = zoo::rollmean(Rt, k=MA, align=\"right\", fill=NA),\n",
    "       MA_lower = zoo::rollmean(lower, k=MA, align=\"right\", fill=NA),\n",
    "       MA_upper = zoo::rollmean(upper, k=MA, align=\"right\", fill=NA)) %>% na.omit() -> result2_MA\n",
    "\n",
    "saveRDS(result2_MA, \"result_Omi_smooth.rds\")"
   ]
  },
  {
   "cell_type": "code",
   "execution_count": null,
   "metadata": {},
   "outputs": [],
   "source": [
    "readRDS(\"result_non_Omi_smooth.rds\") -> result_non_Omi\n",
    "\n",
    "adj1=0.356\n",
    "scaling_parameter1=max(result_non_Omi$total)/max(result_non_Omi$upper[!is.na(result_non_Omi$upper)])\n",
    "\n",
    "result_non_Omi %>% filter(date >= as.Date(\"2021-07-31\") & date <= as.Date(\"2022-12-31\")) %>%\n",
    "    ggplot() + \n",
    "    geom_bar(aes(x=date, y=total), fill=\"#FAAB18\" ,stat='identity', width=0.7) +\n",
    "    geom_line(aes(x=date,y=MA_Rt*scaling_parameter1*adj1),color=\"#1380A1\",size=0.7) +\n",
    "    geom_ribbon(aes(ymax=MA_upper*scaling_parameter1*adj1, ymin=MA_lower*scaling_parameter1*adj1, x=date), \n",
    "                fill=\"#1380A1\", alpha = 0.4) +\n",
    "    ggtitle(\"Effective reproduction number in Delta period\") +\n",
    "    labs(x=\"\\n Date of infection\", y=\"Incidence \\n\") +\n",
    "    labs(x=\"\", y=\"\") +\n",
    "    theme(text = element_text(size=15, family=\"sans\",color=\"black\"),\n",
    "          axis.text = element_text(size=15, family=\"sans\",color=\"black\"),\n",
    "          panel.grid.major = element_blank(), panel.grid.minor = element_blank(),\n",
    "          legend.title = element_text(size = 15),\n",
    "          legend.text = element_text(size = 15),\n",
    "          plot.title = element_text(size=18, family=\"sans\",color=\"black\")) +\n",
    "    scale_x_date(date_breaks = \"2 months\", expand = c(0, 0),\n",
    "                 labels = function(x) if_else(is.na(lag(x)) | !year(lag(x)) == year(x), \n",
    "                                              paste(month(x, label = TRUE), \"\\n\", year(x)), \n",
    "                                              paste(month(x, label = TRUE)))) +\n",
    "    scale_y_continuous(expand = c(0, 0),\n",
    "                       sec.axis = sec_axis(~./(scaling_parameter1*adj1), breaks=c(0,1,2,3,4,5),  \n",
    "                                           name = \"\")) +\n",
    "    coord_cartesian(ylim = c(0,8000)) +\n",
    "    geom_hline(yintercept=1*scaling_parameter1*adj1, linetype=\"dashed\", color = \"#1380A1\", size =0.7) +\n",
    "    geom_vline(xintercept=NPI_1, linetype=\"dashed\", color=\"#990000\", size=1) +\n",
    "    geom_vline(xintercept=as.Date(\"2021-10-28\"), linetype=\"dashed\", color=\"#990000\", size=1) -> fig_org_delta\n",
    "\n",
    "                 \n",
    "                 \n",
    "readRDS(\"result_Omi_smooth.rds\") -> result_Omi\n",
    "\n",
    "adj2=0.45\n",
    "scaling_parameter2=max(result_Omi$total)/max(result_Omi$upper[!is.na(result_Omi$upper)])\n",
    "\n",
    "result_Omi %>% filter(date >= as.Date(\"2022-01-15\") & date <= as.Date(\"2022-05-01\")) %>%\n",
    "    ggplot() + \n",
    "    geom_bar(aes(x=date, y=total), fill=\"#FAAB18\" ,stat='identity', width=0.7) +\n",
    "    geom_line(aes(x=date,y=MA_Rt*scaling_parameter2*adj2),color=\"#1380A1\",size=0.7) +\n",
    "    geom_ribbon(aes(ymax=MA_upper*scaling_parameter2*adj2, ymin=MA_lower*scaling_parameter2*adj2, x=date), \n",
    "                fill=\"#1380A1\", alpha = 0.4) +\n",
    "    ggtitle(\"Effective reproduction number in Omicron period\") +\n",
    "    labs(x=\"\\n Date of infection\", y=\"Incidence \\n\") +\n",
    "    labs(x=\"\", y=\"\") +\n",
    "    theme(text = element_text(size=15, family=\"sans\",color=\"black\"),\n",
    "          axis.text = element_text(size=15, family=\"sans\",color=\"black\"),\n",
    "          panel.grid.major = element_blank(), panel.grid.minor = element_blank(),\n",
    "          legend.title = element_text(size = 15),\n",
    "          legend.text = element_text(size = 15),\n",
    "          plot.title = element_text(size=18, family=\"sans\",color=\"black\")) +\n",
    "    scale_x_date(date_breaks = \"1 months\", expand = c(0, 0),\n",
    "                 labels = function(x) if_else(is.na(lag(x)) | !year(lag(x)) == year(x), \n",
    "                                              paste(month(x, label = TRUE), \"\\n\", year(x)), \n",
    "                                              paste(month(x, label = TRUE)))) +\n",
    "    scale_y_continuous(expand = c(0, 0),\n",
    "                       sec.axis = sec_axis(~./(scaling_parameter2*adj2), breaks=c(0,1,2,3,4,5), \n",
    "                                           name = \"\")) +\n",
    "    coord_cartesian(ylim = c(0,550000)) +\n",
    "    geom_hline(yintercept=1*scaling_parameter2*adj2, linetype=\"dashed\", color = \"#1380A1\", size =0.7) +\n",
    "    geom_vline(xintercept=NPI_2, linetype=\"dashed\", color=\"#990000\", size=1) +\n",
    "    geom_vline(xintercept=NPI_3, linetype=\"dashed\", color=\"#990000\", size=1) +\n",
    "    geom_vline(xintercept=NPI_4, linetype=\"dashed\", color=\"#990000\", size=1) +\n",
    "    geom_vline(xintercept=NPI_5, linetype=\"dashed\", color=\"#990000\", size=1) -> fig_org_omicron                 \n",
    "                 \n",
    "                 \n",
    "options(repr.plot.width=14,repr.plot.height=5)\n",
    "ggarrange(fig_org_delta, ggplot() + theme_void(), fig_org_omicron, nrow = 1,widths = c(1, 0.05, 1), \n",
    "          labels = c(\"A\", \"\", \"B\"), font.label = list(size = 30), vjust=1.2, hjust=0.5) -> Fig_Rt_combined\n",
    "\n",
    "options(repr.plot.width=14,repr.plot.height=5)\n",
    "annotate_figure(Fig_Rt_combined, \n",
    "                left=text_grob(\"Incident cases\", size=16, rot=90),\n",
    "                right=text_grob(\"Effective reproduction number\", size=16, rot=270),\n",
    "                bottom=text_grob(\"Date of infection\", size=16))"
   ]
  }
 ],
 "metadata": {
  "kernelspec": {
   "display_name": "R",
   "language": "R",
   "name": "ir"
  },
  "language_info": {
   "codemirror_mode": "r",
   "file_extension": ".r",
   "mimetype": "text/x-r-source",
   "name": "R",
   "pygments_lexer": "r",
   "version": "4.3.2"
  }
 },
 "nbformat": 4,
 "nbformat_minor": 4
}
